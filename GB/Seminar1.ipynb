{
 "cells": [
  {
   "cell_type": "code",
   "execution_count": 9,
   "metadata": {},
   "outputs": [
    {
     "name": "stdout",
     "output_type": "stream",
     "text": [
      "False\n",
      "0\n",
      "Оба числа четные\n"
     ]
    }
   ],
   "source": [
    "n = int(input())\n",
    "m = int(input()) #на ввод идет str и конвертируется в int\n",
    "print(n < m) #False/True\n",
    "print(int(n < m)) #0/1\n",
    "\n",
    "if n % 2 == 0 and m % 2 == 0: #Проверка на четность\n",
    "    print('Оба числа четные')\n"
   ]
  },
  {
   "cell_type": "code",
   "execution_count": 23,
   "metadata": {},
   "outputs": [
    {
     "name": "stdout",
     "output_type": "stream",
     "text": [
      "0 1 2 3 4\n",
      "range(0, 5)\n",
      "5 7 9\n",
      "10 9 8 7 6 5 4 3 2 1\n"
     ]
    }
   ],
   "source": [
    "print(*range(5)) #*раскрытие объекта\n",
    "print(range(5))\n",
    "print(*range(5, 10, 2)) #чичла от до с шагом 2\n",
    "print(*range(10, 0, -1)) #Без шагового значения команда не будет выполнена"
   ]
  },
  {
   "cell_type": "code",
   "execution_count": 27,
   "metadata": {},
   "outputs": [
    {
     "name": "stdout",
     "output_type": "stream",
     "text": [
      "4\n",
      "Нет не Dima\n",
      "5\n",
      "Нет не Dima\n",
      "True\n",
      "Нет не Dima\n",
      "Dima\n",
      "Всё перебрали\n"
     ]
    }
   ],
   "source": [
    "for i in 4, 5, True, 'Dima': #Перебор значений\n",
    "    print(i)\n",
    "    if i != 'Dima': \n",
    "        print('Нет не Dima')\n",
    "    else:\n",
    "        print('Всё перебрали')"
   ]
  },
  {
   "cell_type": "code",
   "execution_count": 15,
   "metadata": {},
   "outputs": [
    {
     "name": "stdout",
     "output_type": "stream",
     "text": [
      "нет\n"
     ]
    }
   ],
   "source": [
    "#Первое практическое задание\n",
    "#Программа принимает на вход два числа и проверяет, является ли одно число квадратом другого \n",
    "a, b = map(int, input().split())\n",
    "\n",
    "if a == b ** 2 or b == a ** 2:\n",
    "    print('да')\n",
    "else:\n",
    "    print('нет')"
   ]
  },
  {
   "cell_type": "code",
   "execution_count": 22,
   "metadata": {},
   "outputs": [
    {
     "name": "stdout",
     "output_type": "stream",
     "text": [
      "9\n"
     ]
    }
   ],
   "source": [
    "#Второе практическое задание\n",
    "#Программа принимает на вход 5 чисел и находит максимальное из них\n",
    "def large(arr):\n",
    "    max_ = arr[0]\n",
    "    for ele in arr:\n",
    "        if ele > max_:\n",
    "            max_ = ele\n",
    "    return max_\n",
    "list1 = list(map(int, input().split()))\n",
    "result = large(list1)\n",
    "print(result)\n",
    "\n"
   ]
  },
  {
   "cell_type": "code",
   "execution_count": 40,
   "metadata": {},
   "outputs": [
    {
     "name": "stdout",
     "output_type": "stream",
     "text": [
      "-5 -4 -3 -2 -1 0 1 2 3 4 5\n"
     ]
    }
   ],
   "source": [
    "#Третье практическое задание\n",
    "#Программа принимает на вход число N и выводит числа от -N до N\n",
    "N = int(input())\n",
    "print(*range(-N, N + 1))"
   ]
  },
  {
   "cell_type": "code",
   "execution_count": 4,
   "metadata": {},
   "outputs": [
    {
     "name": "stdout",
     "output_type": "stream",
     "text": [
      "7\n",
      "7\n"
     ]
    }
   ],
   "source": [
    "#Четвёртое практическое задание\n",
    "#Программа принимает на вход дробное число и выводит первую цифру после запятой\n",
    "n = float(input())\n",
    "n1 = str(n)\n",
    "if n1[2] == 0:\n",
    "    print('нет')\n",
    "else:\n",
    "    print(n1[2])\n",
    "\n",
    "n = float(input())\n",
    "print(int(n * 10) % 10)"
   ]
  },
  {
   "cell_type": "code",
   "execution_count": 11,
   "metadata": {},
   "outputs": [
    {
     "name": "stdout",
     "output_type": "stream",
     "text": [
      "Число кратно\n"
     ]
    }
   ],
   "source": [
    "#Пятое практическое задание\n",
    "#Программа принимает на вход число и проверяет кратность числа от 5 и 10 или 15 но не 30\n",
    "n = int(input())\n",
    "if ((n % 5 == 0 and n % 10 == 0) or (n % 15 == 0)) and n % 30 != 0:\n",
    "    print('Число кратно')\n",
    "else:\n",
    "    print('не кратно')"
   ]
  },
  {
   "cell_type": "code",
   "execution_count": 27,
   "metadata": {},
   "outputs": [
    {
     "name": "stdout",
     "output_type": "stream",
     "text": [
      "5\n"
     ]
    }
   ],
   "source": [
    "#Шестое практическое задание\n",
    "K = int(str((bin(int(input()) - 1)))[2:]) * 5\n",
    "print(K)"
   ]
  }
 ],
 "metadata": {
  "kernelspec": {
   "display_name": "Python 3",
   "language": "python",
   "name": "python3"
  },
  "language_info": {
   "codemirror_mode": {
    "name": "ipython",
    "version": 3
   },
   "file_extension": ".py",
   "mimetype": "text/x-python",
   "name": "python",
   "nbconvert_exporter": "python",
   "pygments_lexer": "ipython3",
   "version": "3.12.0"
  }
 },
 "nbformat": 4,
 "nbformat_minor": 2
}
