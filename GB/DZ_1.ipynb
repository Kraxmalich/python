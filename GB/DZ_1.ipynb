{
 "cells": [
  {
   "cell_type": "code",
   "execution_count": 3,
   "metadata": {},
   "outputs": [
    {
     "name": "stdout",
     "output_type": "stream",
     "text": [
      "55\n",
      "55\n"
     ]
    }
   ],
   "source": [
    "#Доп задача про кузнечика (удачно)\n",
    "def jump(N, k = 2):\n",
    "    a = []\n",
    "    a.append(1)\n",
    "    for i in range(1, N + 1):\n",
    "        r = k\n",
    "        if (i < r):\n",
    "            r = i\n",
    "            #print(r)\n",
    "        a.append(0)\n",
    "        for j in range(1, r + 1):\n",
    "            a[i] = a[i] + a[i - j]\n",
    "    #print(a[i])\n",
    "    return a[N - 1]\n",
    "\n",
    "print(jump(10))\n",
    "\n",
    "#Решение преподавателя\n",
    "n = int(input())\n",
    "a0 = 0\n",
    "a1 = 1\n",
    "x = 1\n",
    "\n",
    "for i in range(n):\n",
    "    x = a0 + a1 #x = 0+1 = 1\n",
    "    a0 = a1 # a0 = 1\n",
    "    a1 = x # a1 = 1\n",
    "    #Происходит замещение \n",
    "    # x = 1+1 = 2\n",
    "    # a0 = a1 = 1\n",
    "    # a1 = 2\n",
    "print(a0) #В задаче отсчет идёт с единицы, поэтому принт а0"
   ]
  },
  {
   "cell_type": "code",
   "execution_count": 92,
   "metadata": {},
   "outputs": [
    {
     "name": "stdout",
     "output_type": "stream",
     "text": [
      "Такого дня недели нет\n"
     ]
    }
   ],
   "source": [
    "#Первая задача \n",
    "#Напишите программу, которая принимает на вход цифру, обозначающую день недели, и проверяет, является ли этот день выходным.\n",
    "def week(day):\n",
    "    if day <= 5:\n",
    "        print('Будний день')\n",
    "    elif day <= 7:\n",
    "        print('Выходной день')\n",
    "    else:\n",
    "        print('Такого дня недели нет')\n",
    "day = int(input())\n",
    "week(day)"
   ]
  },
  {
   "cell_type": "code",
   "execution_count": 5,
   "metadata": {},
   "outputs": [
    {
     "name": "stdout",
     "output_type": "stream",
     "text": [
      "True\n"
     ]
    }
   ],
   "source": [
    "#Вторая задача \n",
    "#Напишите программу для. проверки истинности утверждения ¬(X ⋁ Y ⋁ Z) = ¬X ⋀ ¬Y ⋀ ¬Z для всех значений предикат\n",
    "x = int(input())\n",
    "y = int(input())\n",
    "z = int(input())\n",
    "if not(x or y or z) == ((not x) and (not y) and (not z)):\n",
    "    print(True)\n",
    "else:\n",
    "    print(False)"
   ]
  },
  {
   "cell_type": "code",
   "execution_count": 9,
   "metadata": {},
   "outputs": [
    {
     "data": {
      "text/plain": [
       "1"
      ]
     },
     "execution_count": 9,
     "metadata": {},
     "output_type": "execute_result"
    }
   ],
   "source": [
    "#Третья задача \n",
    "#Напишите программу, которая принимает на вход координаты точки (X и Y), причём X ≠ 0 и Y ≠ 0 и выдаёт номер четверти плоскости, в которой находится эта точка\n",
    "x = int(input('Введите X:'))\n",
    "y = int(input('Введите Y:'))\n",
    "\n",
    "def place(x, y):\n",
    "    if x > 0 and y > 0:\n",
    "        return(1)\n",
    "    elif x < 0 and y > 0:\n",
    "        return(2)\n",
    "    elif x < 0 and y < 0:\n",
    "        return(3)\n",
    "    elif x > 0 and y < 0:\n",
    "        return(4)\n",
    "    else:\n",
    "        return('В задаче сказано, что X и Y != 0')\n",
    "\n",
    "place(x, y)"
   ]
  },
  {
   "cell_type": "code",
   "execution_count": 2,
   "metadata": {},
   "outputs": [
    {
     "name": "stdout",
     "output_type": "stream",
     "text": [
      "Четверть: 1\n"
     ]
    }
   ],
   "source": [
    "# #Не решенные домашки\n",
    "# Напишите программу, которая по заданному номеру четверти, показывает диапазон возможных координат точек в этой четверти (x и y).\n",
    "# Напишите программу, которая принимает на вход координаты двух точек и находит расстояние между ними в 2D пространстве.\n",
    "\n",
    "# Пример:\n",
    "\n",
    "# - A (3,6); B (2,1) -> 5,09\n",
    "# - A (7,-5); B (1,-1) -> 7,21\n"
   ]
  }
 ],
 "metadata": {
  "kernelspec": {
   "display_name": "Python 3",
   "language": "python",
   "name": "python3"
  },
  "language_info": {
   "codemirror_mode": {
    "name": "ipython",
    "version": 3
   },
   "file_extension": ".py",
   "mimetype": "text/x-python",
   "name": "python",
   "nbconvert_exporter": "python",
   "pygments_lexer": "ipython3",
   "version": "3.12.0"
  }
 },
 "nbformat": 4,
 "nbformat_minor": 2
}
