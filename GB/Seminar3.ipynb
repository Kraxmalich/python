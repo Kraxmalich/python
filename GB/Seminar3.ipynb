{
 "cells": [
  {
   "cell_type": "code",
   "execution_count": 362,
   "metadata": {},
   "outputs": [
    {
     "name": "stdout",
     "output_type": "stream",
     "text": [
      "242\n"
     ]
    }
   ],
   "source": [
    "#Первая задача\n",
    "#Напишите алгоритм задания случайных чисел\n",
    "import time\n",
    "print(str(time.time_ns())[-6 : -3])"
   ]
  },
  {
   "cell_type": "code",
   "execution_count": 34,
   "metadata": {},
   "outputs": [
    {
     "name": "stdout",
     "output_type": "stream",
     "text": [
      "yes\n"
     ]
    }
   ],
   "source": [
    "#Вторая задача (мое решение, ищет числа в строках)\n",
    "#Задайте список и напишите программу, которая проверяет наличие в списке строк некое число\n",
    "list1 = ['q3we', '4', 'a5s567d', '2', 'zx7c']\n",
    "list1 = str(list1)\n",
    "numb = int(input('Введите искомое число'))\n",
    "numbers = []\n",
    "selection = ''\n",
    "\n",
    "for i in list1:\n",
    "    if i.isdigit():\n",
    "        selection += i\n",
    "    elif selection:\n",
    "        numbers.append(selection)\n",
    "        selection = ''\n",
    "if i.isdigit():\n",
    "    numbers.append(i)\n",
    "print(numbers)\n",
    "\n",
    "numbers = map(int, numbers)\n",
    "if numb in numbers:\n",
    "    print(f'Число {numb} присутствует в списке')\n",
    "else:\n",
    "    print(f'В списке нет числа {numb}')\n",
    "\n",
    "#Решение преподавателя (ищет только строки состоящие из числа)\n",
    "def SearchList(arr, number):\n",
    "    if str(number) in arr:\n",
    "        return 'yes'\n",
    "    return 'no'\n",
    "\n",
    "list1 = ['q3we', '4', 'a5s567d', '2', 'zx7c']\n",
    "print(SearchList(list1, 4))"
   ]
  },
  {
   "cell_type": "code",
   "execution_count": 53,
   "metadata": {},
   "outputs": [
    {
     "name": "stdout",
     "output_type": "stream",
     "text": [
      "Второе вхождение обнаружено под индексом 3\n"
     ]
    }
   ],
   "source": [
    "#Определить второе вхождение строки в списке\n",
    "def SearchElement(arr, element):\n",
    "    count = 0\n",
    "    for i in range(len(arr)):\n",
    "        if arr[i] == element:\n",
    "            count += 1\n",
    "        if count == 2:\n",
    "            return f'Второе вхождение обнаружено под индексом {i}'\n",
    "    return 'Второе вхождение отсутствует'\n",
    "arr = ['qwerty', 'asd', 'zxc', 'qwerty', 'ertqwe']\n",
    "print(SearchElement(arr, 'qwerty'))"
   ]
  }
 ],
 "metadata": {
  "kernelspec": {
   "display_name": "Python 3",
   "language": "python",
   "name": "python3"
  },
  "language_info": {
   "codemirror_mode": {
    "name": "ipython",
    "version": 3
   },
   "file_extension": ".py",
   "mimetype": "text/x-python",
   "name": "python",
   "nbconvert_exporter": "python",
   "pygments_lexer": "ipython3",
   "version": "3.12.0"
  }
 },
 "nbformat": 4,
 "nbformat_minor": 2
}
