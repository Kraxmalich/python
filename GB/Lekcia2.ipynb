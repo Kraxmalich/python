{
 "cells": [
  {
   "cell_type": "code",
   "execution_count": null,
   "metadata": {},
   "outputs": [],
   "source": [
    "# Файлы\n",
    "# Хранение данных\n",
    "# Передача данных в клиент-серверных проектах\n",
    "# Хранение конфигов\n",
    "# Логирование действий\n",
    "#----------------------------------------------------------------\n",
    "# Связать файловую переменную с файлом, определив модификатор работы\n",
    "# a - открытие для добавления данных\n",
    "# r - открытие для чтения данных\n",
    "# w - открытие для записи данных\n",
    "# w+, r+\n",
    "\n",
    "#Запись\n",
    "colors = ['red', 'green', 'blue']\n",
    "data = open('file.txt', 'a')\n",
    "#data.writelines(colors)\n",
    "data.write('\\nLINE 2\\n') \n",
    "data.write('LINE 3\\n') \n",
    "data.close()\n",
    "\n",
    "#Чтение\n",
    "path = 'file.txt'\n",
    "data = open(path, 'r')\n",
    "for line in data:\n",
    "    print(line)\n",
    "data.close()\n",
    "exit()"
   ]
  },
  {
   "cell_type": "code",
   "execution_count": 21,
   "metadata": {},
   "outputs": [
    {
     "name": "stdout",
     "output_type": "stream",
     "text": [
      "x = 0\n"
     ]
    }
   ],
   "source": [
    "# Функции и модули\n",
    "#Функции - фрагмент программы, используемый многократно\n",
    "import proverka_func as pf\n",
    "\n",
    "print(pf.proverka_func(0))"
   ]
  },
  {
   "cell_type": "code",
   "execution_count": 24,
   "metadata": {},
   "outputs": [
    {
     "name": "stdout",
     "output_type": "stream",
     "text": [
      "!!!\n"
     ]
    }
   ],
   "source": [
    "import new_string as ns\n",
    "\n",
    "print(ns.new_string('!'))\n"
   ]
  },
  {
   "cell_type": "code",
   "execution_count": 28,
   "metadata": {},
   "outputs": [
    {
     "name": "stdout",
     "output_type": "stream",
     "text": [
      "123456\n"
     ]
    }
   ],
   "source": [
    "def concatinatio(*params):\n",
    "    res: str = ''\n",
    "    for item in params:\n",
    "        res += item\n",
    "    return res\n",
    "print(concatinatio('1', '2', '3', '4', '5', '6'))"
   ]
  },
  {
   "cell_type": "code",
   "execution_count": 29,
   "metadata": {},
   "outputs": [
    {
     "name": "stdout",
     "output_type": "stream",
     "text": [
      "[1, 1, 2, 3, 5, 8, 13, 21, 34]\n"
     ]
    }
   ],
   "source": [
    "#Рекурсия\n",
    "def fib(n):\n",
    "    if n in [1, 2]:\n",
    "        return 1\n",
    "    else:\n",
    "        return fib(n-1) + fib(n-2)\n",
    "\n",
    "list = []\n",
    "for e in range(1, 10):\n",
    "    list.append(fib(e))\n",
    "print(list)"
   ]
  },
  {
   "cell_type": "code",
   "execution_count": 42,
   "metadata": {},
   "outputs": [
    {
     "name": "stdout",
     "output_type": "stream",
     "text": [
      "<class 'tuple'>\n",
      "<class 'tuple'>\n",
      "<class 'int'>\n",
      "<class 'tuple'>\n",
      "<class 'list'>\n",
      "['red', 'green', 'blue']\n",
      "('red', 'green', 'blue')\n",
      "<class 'tuple'>\n"
     ]
    }
   ],
   "source": [
    "#Кортеж - неизменяемый 'список'\n",
    "t = ()\n",
    "print(type(t)) #<class 'tuple'>\n",
    "\n",
    "t = (1, )\n",
    "print(type(t)) #<class 'tuple'>\n",
    "\n",
    "t =(1)\n",
    "print(type(t)) #<class 'int'>\n",
    "\n",
    "t = (8, 2, 1994)\n",
    "print(type(t)) #<class 'tuple'>\n",
    "\n",
    "colors = ['red', 'green', 'blue']\n",
    "print(type(colors)) #<class 'list'>\n",
    "print(colors)\n",
    "t = tuple(colors)\n",
    "print(t)\n",
    "print(type(t)) #<class 'tuple'>"
   ]
  },
  {
   "cell_type": "code",
   "execution_count": 47,
   "metadata": {},
   "outputs": [
    {
     "name": "stdout",
     "output_type": "stream",
     "text": [
      "3\n",
      "4\n",
      "5\n"
     ]
    }
   ],
   "source": [
    "a = (3, 4, 5)\n",
    "for item in a:\n",
    "    print(item)"
   ]
  },
  {
   "cell_type": "code",
   "execution_count": 49,
   "metadata": {},
   "outputs": [
    {
     "name": "stdout",
     "output_type": "stream",
     "text": [
      "r:red g:green b:blue\n"
     ]
    }
   ],
   "source": [
    "t = tuple(['red', 'green', 'blue']) #создаем кортеж\n",
    "red, green, blue = t #разделяем на отдельные переменные\n",
    "print('r:{} g:{} b:{}'.format(red, green, blue)) #работаем как с отдельными переменными\n"
   ]
  },
  {
   "cell_type": "code",
   "execution_count": 57,
   "metadata": {},
   "outputs": [
    {
     "name": "stdout",
     "output_type": "stream",
     "text": [
      "{'up': 'верх', 'left': 'влево', 'down': 'вниз', 'right': 'вправо'}\n",
      "вниз\n",
      "up\n",
      "up\n",
      "влево\n",
      "вниз\n",
      "вправо\n"
     ]
    }
   ],
   "source": [
    "#Словарь - неупорядоченная коллекция произвольных объектов с доступом по ключу\n",
    "a = {}\n",
    "a = {'up': 'верх', 'left': 'влево', 'down': 'вниз', 'right': 'вправо'}\n",
    "print(a)\n",
    "print(a['down'])\n",
    "a['up'] = 'up'\n",
    "print(a['up'])\n",
    "for k in a.values():\n",
    "    print(k)"
   ]
  },
  {
   "cell_type": "code",
   "execution_count": 7,
   "metadata": {},
   "outputs": [
    {
     "name": "stdout",
     "output_type": "stream",
     "text": [
      "<class 'set'>\n",
      "{'blue', 'green', 'red'}\n",
      "{'blue', 'green', 'red'}\n",
      "{'blue', 'green', 'red', 'gray'}\n",
      "{'blue', 'green', 'gray'}\n"
     ]
    }
   ],
   "source": [
    "#Множества - содержит только уникальные элементы\n",
    "colors = {'red', 'blue', 'green'}\n",
    "print(type(colors)) #<class 'set'>\n",
    "print(colors)\n",
    "\n",
    "colors.add('red') \n",
    "print(colors)\n",
    "\n",
    "colors.add('gray')\n",
    "print(colors)\n",
    "\n",
    "colors.remove('red')\n",
    "print(colors)\n"
   ]
  },
  {
   "cell_type": "code",
   "execution_count": null,
   "metadata": {},
   "outputs": [],
   "source": [
    "a = {1, 2, 3, 5, 8}\n",
    "b = {2, 5, 8, 12, 21}\n",
    "c = a.copy() #Копирование множества из а\n",
    "u = a.union(b) #Объединение множеств a и b\n",
    "i = a.intersection(b) #Вывод одинаковых значений в множествах\n",
    "dl = a.difference(b) #Вывод значений не входящих в b\n"
   ]
  },
  {
   "cell_type": "code",
   "execution_count": 25,
   "metadata": {},
   "outputs": [
    {
     "name": "stdout",
     "output_type": "stream",
     "text": [
      "\n",
      "1\n",
      "2\n",
      "3\n",
      "4\n",
      "5\n",
      "6\n",
      "7\n",
      "8\n",
      "9\n",
      "[1, 2, 3, 4, 5]\n",
      "5\n",
      "[1, 2, 3, 4]\n",
      "None\n",
      "[1, 2, 11, 3, 4]\n",
      "None\n",
      "[1, 2, 11, 3, 4, 20]\n"
     ]
    }
   ],
   "source": [
    "list1 = [1, 2, 3, 4, 5]\n",
    "list2 = [6, 7, 8, 9]\n",
    "print()\n",
    "for e in list1:\n",
    "    print(e)\n",
    "\n",
    "for e in list2:\n",
    "    print(e)\n",
    "\n",
    "print(list1)\n",
    "\n",
    "print(list1.pop()) #Извлечение последнего элемента в списке\n",
    "print(list1)\n",
    "\n",
    "print(list1.insert(2, 11))\n",
    "print(list1)\n",
    "\n",
    "print(list1.append(20))\n",
    "print(list1)"
   ]
  }
 ],
 "metadata": {
  "kernelspec": {
   "display_name": "Python 3",
   "language": "python",
   "name": "python3"
  },
  "language_info": {
   "codemirror_mode": {
    "name": "ipython",
    "version": 3
   },
   "file_extension": ".py",
   "mimetype": "text/x-python",
   "name": "python",
   "nbconvert_exporter": "python",
   "pygments_lexer": "ipython3",
   "version": "3.12.0"
  }
 },
 "nbformat": 4,
 "nbformat_minor": 2
}
