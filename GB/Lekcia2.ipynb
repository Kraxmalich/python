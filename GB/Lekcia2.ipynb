{
 "cells": [
  {
   "cell_type": "code",
   "execution_count": 5,
   "metadata": {},
   "outputs": [],
   "source": [
    "# Файлы\n",
    "# Хранение данных\n",
    "# Передача данных в клиент-серверных проектах\n",
    "# Хранение конфигов\n",
    "# Логирование действий\n",
    "#----------------------------------------------------------------\n",
    "# Связать файловую переменную с файлом, определив модификатор работы\n",
    "# a - открытие для добавления данных\n",
    "# r - открытие для чтения данных\n",
    "# w - открытие для записи данных\n",
    "# w+, r+\n",
    "\n",
    "colors = ['red', 'green', 'blue']\n",
    "data = open('file.txt', 'a')\n",
    "#data.writelines(colors)\n",
    "data.write('\\nLINE 2\\n') \n",
    "data.write('LINE 3\\n') \n",
    "data.close()\n",
    "# exit() #Прописывается для прекращения кода. все что ниже выполняться не будет\n"
   ]
  }
 ],
 "metadata": {
  "kernelspec": {
   "display_name": "Python 3",
   "language": "python",
   "name": "python3"
  },
  "language_info": {
   "codemirror_mode": {
    "name": "ipython",
    "version": 3
   },
   "file_extension": ".py",
   "mimetype": "text/x-python",
   "name": "python",
   "nbconvert_exporter": "python",
   "pygments_lexer": "ipython3",
   "version": "3.12.0"
  }
 },
 "nbformat": 4,
 "nbformat_minor": 2
}
