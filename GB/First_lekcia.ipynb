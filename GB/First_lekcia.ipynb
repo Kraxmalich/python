{
 "cells": [
  {
   "cell_type": "code",
   "execution_count": null,
   "metadata": {},
   "outputs": [],
   "source": [
    "print('hello world')"
   ]
  },
  {
   "cell_type": "code",
   "execution_count": 2,
   "metadata": {},
   "outputs": [
    {
     "name": "stdout",
     "output_type": "stream",
     "text": [
      "Hello world\n"
     ]
    }
   ],
   "source": [
    "s = 'Hello world'\n",
    "print(s)"
   ]
  },
  {
   "cell_type": "code",
   "execution_count": 4,
   "metadata": {},
   "outputs": [
    {
     "name": "stdout",
     "output_type": "stream",
     "text": [
      "hello 'world'\n"
     ]
    }
   ],
   "source": [
    "s = 'hello \\'world\\''\n",
    "print(s)"
   ]
  },
  {
   "cell_type": "code",
   "execution_count": 16,
   "metadata": {},
   "outputs": [
    {
     "name": "stdout",
     "output_type": "stream",
     "text": [
      "hello 'world'\n",
      "123 - 1.23 - hello 'world'\n",
      "1.23 - hello 'world' - 123\n",
      "123 - 1.23 - hello 'world'\n"
     ]
    }
   ],
   "source": [
    "#Работа со строками\n",
    "a = 123\n",
    "b = 1.23\n",
    "s = 'hello \\'world\\''\n",
    "print(s) #вывод строки\n",
    "print(a,'-',b,'-',s)\n",
    "print('{1} - {2} - {0}'.format(a, b, s)) #расстановка по индесу\n",
    "print(f'{a} - {b} - {s}')"
   ]
  },
  {
   "cell_type": "code",
   "execution_count": 15,
   "metadata": {},
   "outputs": [
    {
     "name": "stdout",
     "output_type": "stream",
     "text": [
      "False True\n"
     ]
    }
   ],
   "source": [
    "#Логические переменные\n",
    "f = False\n",
    "t = True\n",
    "print(f, t)"
   ]
  },
  {
   "cell_type": "code",
   "execution_count": 20,
   "metadata": {},
   "outputs": [
    {
     "name": "stdout",
     "output_type": "stream",
     "text": [
      "[1, '2', '3', 'hello', 5]\n"
     ]
    }
   ],
   "source": [
    "#Работа с массивами(списки)\n",
    "#Лучше использовать один тип данных для хранилища\n",
    "list = [1, '2', '3', 'hello', 5] #можно вводить и строки и исла\n",
    "print(list)"
   ]
  },
  {
   "cell_type": "code",
   "execution_count": 24,
   "metadata": {},
   "outputs": [
    {
     "name": "stdout",
     "output_type": "stream",
     "text": [
      "Введите имя\n",
      "Введите возраст\n",
      "Добрый день, Дмитрий. 29 лет, это замечательный возраст!\n"
     ]
    }
   ],
   "source": [
    "#Вывод и ввод данных (Преобразование типов)\n",
    "#print() #Вывод данных\n",
    "#input() #Ввод данных\n",
    "\n",
    "print('Введите имя')\n",
    "name = input() #по умолчанию это строка (менять формат необходимо тут)\n",
    "print('Введите возраст')\n",
    "old = input() #по умолчанию это строка (менять формат необходимо тут)\n",
    "print(f'Добрый день, {name}. {old} лет, это замечательный возраст!')"
   ]
  },
  {
   "cell_type": "code",
   "execution_count": 28,
   "metadata": {},
   "outputs": [
    {
     "name": "stdout",
     "output_type": "stream",
     "text": [
      "3.9000000000000004\n",
      "4\n",
      "3.9\n"
     ]
    }
   ],
   "source": [
    "#Арифметические операции\n",
    "#+,-,*,/,%,//,**\n",
    "#Приоритет операций\n",
    "#**,(+),(-),*,/,//,%,+\n",
    "#/ деление с переводом в float\n",
    "#// деление с переводом в int\n",
    "#% остаток от деления\n",
    "\n",
    "a = 1.3\n",
    "b = 3\n",
    "c = (a * b)\n",
    "print(c)\n",
    "c = round(a * b) #Округление до целого числа в большую сторону\n",
    "print(c)\n",
    "c = round(a * b, 3) #добавление аргумента, без округления отображает кол-во знаков после запятой\n",
    "print(c)"
   ]
  },
  {
   "cell_type": "code",
   "execution_count": 30,
   "metadata": {},
   "outputs": [
    {
     "name": "stdout",
     "output_type": "stream",
     "text": [
      "8\n"
     ]
    }
   ],
   "source": [
    "#Сокращенные операции присваивания\n",
    "a = 3\n",
    "a += 5\n",
    "print(a)"
   ]
  },
  {
   "cell_type": "code",
   "execution_count": 46,
   "metadata": {},
   "outputs": [
    {
     "name": "stdout",
     "output_type": "stream",
     "text": [
      "False\n",
      "True\n",
      "True\n",
      "True\n",
      "True\n",
      "[1, 2, 3]\n",
      "True\n",
      "False\n",
      "True\n"
     ]
    }
   ],
   "source": [
    "#Логические операции\n",
    "#>, >=, <, <=, ==, !=\n",
    "#not, and, or - не путать с &, |, ^\n",
    "#is, is not, in, not in\n",
    "#gen\n",
    "a = 1 > 4\n",
    "print(a)\n",
    "\n",
    "b = [1,2]\n",
    "c = [1,2]\n",
    "print(b == c) #списки сравниваются поэлементно\n",
    "\n",
    "#Можно использовать множественные неравенства\n",
    "a = 1 < 3 < 5 < 10\n",
    "print(a)\n",
    "\n",
    "func = 1\n",
    "T = 4\n",
    "x = 2\n",
    "print(func<T>x)\n",
    "\n",
    "f = 1 > 2 or 4 < 6\n",
    "print(f)\n",
    "\n",
    "f = [1,2,3]\n",
    "print(f)\n",
    "print(2 in f) #Проверка нахождения значения в списке\n",
    "print(not 2 in f) \n",
    "\n",
    "f = [1,2,3]\n",
    "is_odd = not f[1] % 2 #Поиск остатка от деления\n",
    "print(is_odd)"
   ]
  },
  {
   "cell_type": "code",
   "execution_count": 52,
   "metadata": {},
   "outputs": [
    {
     "name": "stdout",
     "output_type": "stream",
     "text": [
      "Числа равны\n"
     ]
    }
   ],
   "source": [
    "#Управляющие конструкции: if, if-else, elif\n",
    "a = int(input('a='))\n",
    "b = int(input('b='))\n",
    "if a > b:\n",
    "    print(a)\n",
    "elif a < b:\n",
    "    print(b)\n",
    "else:\n",
    "    print('Числа равны')"
   ]
  },
  {
   "cell_type": "code",
   "execution_count": 54,
   "metadata": {},
   "outputs": [
    {
     "name": "stdout",
     "output_type": "stream",
     "text": [
      "2\n",
      "0\n",
      "Хватит\n",
      "32\n"
     ]
    }
   ],
   "source": [
    "#Управляющие конструкции: while\n",
    "#Цикл позволяет выполнить блок операторов какое-то кол-во раз\n",
    "original = 23\n",
    "inverted = 0\n",
    "while original != 0:\n",
    "    inverted = inverted * 10 + (original % 10)\n",
    "    original //= 10\n",
    "    print(original)\n",
    "else:\n",
    "    print('Хватит')\n",
    "print(inverted)"
   ]
  },
  {
   "cell_type": "code",
   "execution_count": 9,
   "metadata": {},
   "outputs": [
    {
     "name": "stdout",
     "output_type": "stream",
     "text": [
      "1\n",
      "4\n",
      "9\n",
      "1\n",
      "4\n",
      "9\n",
      "0\n",
      "1\n",
      "2\n",
      "qwerty\n",
      "DIMA\n",
      "q\n",
      "w\n",
      "e\n",
      " \n",
      "-\n",
      " \n",
      "r\n",
      "t\n",
      "y\n"
     ]
    }
   ],
   "source": [
    "#Управляющие конструкции: for\n",
    "#Точно знаем что хотим сделать\n",
    "for i in 1, 2, 3:\n",
    "    print(i**2)\n",
    "\n",
    "list = [1,2,3]\n",
    "for i in list:\n",
    "    print(i**2)\n",
    "\n",
    "r = range(3)\n",
    "for i in range(3):\n",
    "    print(i)\n",
    "\n",
    "list = ['qwerty','DIMA']\n",
    "for i in list:\n",
    "    print(i)\n",
    "\n",
    "for i in 'qwe - rty':\n",
    "    print(i)"
   ]
  },
  {
   "cell_type": "code",
   "execution_count": 30,
   "metadata": {},
   "outputs": [
    {
     "name": "stdout",
     "output_type": "stream",
     "text": [
      "39\n",
      "True\n",
      "False\n",
      "True\n",
      "съешь ЕЩЁ этих мягких французских булок\n",
      "Help on built-in function join:\n",
      "\n",
      "join(iterable, /) method of builtins.str instance\n",
      "    Concatenate any number of strings.\n",
      "\n",
      "    The string whose method is called is inserted in between each given string.\n",
      "    The result is returned as a new string.\n",
      "\n",
      "    Example: '.'.join(['ab', 'pq', 'rs']) -> 'ab.pq.rs'\n",
      "\n"
     ]
    }
   ],
   "source": [
    "#Работа со строками\n",
    "text ='съешь ещё этих мягких французских булок'\n",
    "print(len(text))    #39\n",
    "print('ещё' in text)    #True\n",
    "print(text.isdigit())   #False\n",
    "print(text.islower())   #True\n",
    "print(text.replace('ещё', 'ЕЩЁ')) #Замена имеющегося значения на необходимое\n",
    "\n",
    "help(text.join)\n",
    "#for c in text:\n",
    "#    print(c) #разбили по символам"
   ]
  },
  {
   "cell_type": "code",
   "execution_count": 27,
   "metadata": {},
   "outputs": [
    {
     "name": "stdout",
     "output_type": "stream",
     "text": [
      "с\n",
      "ъ\n",
      "к\n",
      "б\n",
      "съешь ещё этих мягких французских булок\n",
      "съ\n",
      "ок\n",
      "ешь ещё\n",
      "ещё этих мягких\n",
      "сеикакл\n",
      "ешь ещёбсъ\n"
     ]
    }
   ],
   "source": [
    "#Еще строки\n",
    "text = 'съешь ещё этих мягких французских булок'\n",
    "print(text[0]) #с -Печать символа по индексу\n",
    "print(text[1]) #ъ\n",
    "print(text[len(text)-1]) #к\n",
    "print(text[-5]) #б\n",
    "print(text[:]) #print(text)\n",
    "print(text[:2]) #съ\n",
    "print(text[len(text)-2:]) #ок\n",
    "print(text[2:9]) #ешь ещё\n",
    "print(text[6:-18]) #ещё этих мягких\n",
    "print(text[0:len(text):6]) #сеикакл\n",
    "text = text[2:9] + text[-5] + text[:2] #ешь ещёбсъ"
   ]
  },
  {
   "cell_type": "code",
   "execution_count": 2,
   "metadata": {},
   "outputs": [
    {
     "name": "stdout",
     "output_type": "stream",
     "text": [
      "[1, 2, 3, 4, 5]\n",
      "[1, 2, 3, 4, 5]\n",
      "5 len\n",
      "[10, 2, 3, 4, 5]\n",
      "20\n",
      "4\n",
      "6\n",
      "8\n",
      "10\n",
      "[10, 2, 3, 4, 5]\n"
     ]
    }
   ],
   "source": [
    "#Списки: введение\n",
    "#Список - пронумерованная, изменяемая коллекция объектов\n",
    "numbers = [1, 2, 3, 4, 5]\n",
    "print(numbers) #[1, 2, 3, 4, 5]\n",
    "\n",
    "ran = range(1, 6)\n",
    "numbers = list(ran)\n",
    "print(numbers)\n",
    "\n",
    "numbers[0] = 10\n",
    "print(f'{len(numbers)} len')\n",
    "print(numbers) #[10, 2, 3, 4, 5]\n",
    "\n",
    "for i in numbers:\n",
    "    i *= 2\n",
    "    print(i) #[20, 4, 6, 8, 10]\n",
    "print(numbers) #[10, 2, 3, 4, 5]\n"
   ]
  },
  {
   "cell_type": "code",
   "execution_count": 53,
   "metadata": {},
   "outputs": [
    {
     "name": "stdout",
     "output_type": "stream",
     "text": [
      "red\n",
      "green\n",
      "blue\n",
      "redred\n",
      "greengreen\n",
      "blueblue\n",
      "True\n"
     ]
    }
   ],
   "source": [
    "#Расширенный функцианал работы со списками\n",
    "colors = ['red', 'green', 'blue']\n",
    "for e in colors:\n",
    "    print(e) #red green blue\n",
    "\n",
    "for e in colors:\n",
    "    print(e*2) #redred greengreen blueblue\n",
    "\n",
    "colors.append('gray') #Добавить элемент в конец\n",
    "print(colors == ['red', 'green', 'blue', 'gray']) #True\n",
    "\n",
    "colors.remove('red') #del colors[0]#удалить элемент"
   ]
  },
  {
   "cell_type": "code",
   "execution_count": 55,
   "metadata": {},
   "outputs": [
    {
     "name": "stdout",
     "output_type": "stream",
     "text": [
      "Целое\n",
      "<class 'str'>\n"
     ]
    }
   ],
   "source": [
    "#Функции\n",
    "#def functon_name(x): #в скобках указан аргумент\n",
    "    #Body line 1\n",
    "    #...\n",
    "    #Body line n\n",
    "    #optional return\n",
    "def f(x):\n",
    "    if x == 1:\n",
    "        return 'Целое'\n",
    "    elif x == 2.3:\n",
    "        return 23\n",
    "    else:\n",
    "        return\n",
    "arg = 1\n",
    "print(f(arg))\n",
    "print(type(f(arg)))"
   ]
  }
 ],
 "metadata": {
  "kernelspec": {
   "display_name": "Python 3",
   "language": "python",
   "name": "python3"
  },
  "language_info": {
   "codemirror_mode": {
    "name": "ipython",
    "version": 3
   },
   "file_extension": ".py",
   "mimetype": "text/x-python",
   "name": "python",
   "nbconvert_exporter": "python",
   "pygments_lexer": "ipython3",
   "version": "3.12.0"
  }
 },
 "nbformat": 4,
 "nbformat_minor": 2
}
