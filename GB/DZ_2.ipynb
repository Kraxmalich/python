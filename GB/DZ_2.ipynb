{
 "cells": [
  {
   "cell_type": "code",
   "execution_count": 18,
   "metadata": {},
   "outputs": [
    {
     "data": {
      "text/plain": [
       "7"
      ]
     },
     "execution_count": 18,
     "metadata": {},
     "output_type": "execute_result"
    }
   ],
   "source": [
    "#Напишите программу, которая принимает на вход вещественное число и показывает сумму его цифр\n",
    "x = int(input('Введите число'))\n",
    "def summ(n):\n",
    "    if n < 10:\n",
    "        return n\n",
    "    else:\n",
    "        return n % 10 + summ(n // 10)\n",
    "summ(x)"
   ]
  },
  {
   "cell_type": "code",
   "execution_count": 15,
   "metadata": {},
   "outputs": [
    {
     "name": "stdout",
     "output_type": "stream",
     "text": [
      "Факториал числа 4 равен 24\n"
     ]
    }
   ],
   "source": [
    "#Напишите программу, которая принимает на вход число N и выдает набор произведений чисел от 1 до N. Факториал\n",
    "def fact(n):\n",
    "    if n == 1:\n",
    "        return 1\n",
    "    else:\n",
    "        return n * fact(n - 1)\n",
    "N = int(input('Введите число'))\n",
    "result = fact(N)\n",
    "print(f'Факториал числа {N} равен {result}')"
   ]
  },
  {
   "cell_type": "code",
   "execution_count": 30,
   "metadata": {},
   "outputs": [
    {
     "name": "stdout",
     "output_type": "stream",
     "text": [
      "8\n"
     ]
    }
   ],
   "source": [
    "#Вклад в банке составляет X рублей. Ежегодно он увеличивается на P процентов, после чего дробная часть копеек отбрасывается.Требуется определить: через сколько лет вклад составит не менее Y рублей.\n",
    "x = float(100)\n",
    "y = float(200)\n",
    "years = 0\n",
    "while x < y:\n",
    "    p = x*0.10\n",
    "    x = x + p\n",
    "    years += 1\n",
    "print(years)\n"
   ]
  },
  {
   "cell_type": "code",
   "execution_count": null,
   "metadata": {},
   "outputs": [],
   "source": [
    "#Задана последовательность натуральных чисел, завершающаяся числом 0. Требуется определить значение второго по величине элемента в этой последовательности, то есть элемента, который будет наибольшим, если из последовательности удалить наибольший элемент.\n",
    "# Пример:\n",
    "# 1\n",
    "# 7\n",
    "# 9\n",
    "# 0\n",
    "# Вывод:\n",
    "# 7"
   ]
  }
 ],
 "metadata": {
  "kernelspec": {
   "display_name": "Python 3",
   "language": "python",
   "name": "python3"
  },
  "language_info": {
   "codemirror_mode": {
    "name": "ipython",
    "version": 3
   },
   "file_extension": ".py",
   "mimetype": "text/x-python",
   "name": "python",
   "nbconvert_exporter": "python",
   "pygments_lexer": "ipython3",
   "version": "3.12.0"
  }
 },
 "nbformat": 4,
 "nbformat_minor": 2
}
