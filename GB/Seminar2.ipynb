{
 "cells": [
  {
   "cell_type": "code",
   "execution_count": 7,
   "metadata": {},
   "outputs": [
    {
     "name": "stdout",
     "output_type": "stream",
     "text": [
      "2\n",
      "112\n",
      "2\n",
      "HelloHello\n",
      "0 1 2 3 4\n",
      "<class 'range'>\n",
      "0\n",
      "1\n",
      "2\n",
      "3\n",
      "4\n"
     ]
    }
   ],
   "source": [
    "#Цикл for\n",
    "#Служит для перебота значений любых типов данных\n",
    "for i in 1, 56, True, 'Hello':\n",
    "    print(i * 2)\n",
    "\n",
    "print(*range(5)) # что бы работать с данными, необходимо приобразовать данные в список\n",
    "print(type(range(5)))\n",
    "for i in range(5):\n",
    "    print(i)"
   ]
  },
  {
   "cell_type": "code",
   "execution_count": 6,
   "metadata": {},
   "outputs": [
    {
     "name": "stdout",
     "output_type": "stream",
     "text": [
      "[-508, -952, -2700, 600, -633]\n",
      "4 -12 36 -108 324 "
     ]
    }
   ],
   "source": [
    "#Первая задача\n",
    "#Программа принимает на вход число N и составляет перечень случайных чисел длинной в N\n",
    "from random import randint\n",
    "N = int(input())\n",
    "arr = [0] * N\n",
    "for i in range(N):\n",
    "    arr[i] = randint(-N**5, N**5)\n",
    "print(arr)\n",
    "\n",
    "N = int(input())\n",
    "x = i\n",
    "for i in range(N):\n",
    "    print(x, end=' ')\n",
    "    x = x * (-3)"
   ]
  },
  {
   "cell_type": "code",
   "execution_count": 7,
   "metadata": {},
   "outputs": [
    {
     "name": "stdout",
     "output_type": "stream",
     "text": [
      "{1: 4, 2: 7, 3: 10, 4: 13, 5: 16, 6: 19}\n"
     ]
    }
   ],
   "source": [
    "#Вторая задача\n",
    "#Для натурального n создать словарь индекс-значение состоящий из элементов последовательности 3n+1\n",
    "# def n_dict(n):\n",
    "#     k = 0 #key\n",
    "#     v = 0 #value\n",
    "#     dict = {} #Пустой словарь\n",
    "#     while len(dict) != n: #Пока кол-во элементов словаря не равно n\n",
    "#         k+=1 #Добавляем ключ\n",
    "#         v = 3 * k + 1 #Присваиваем значение согласно задаче\n",
    "#         dict[k] = v #Индекс ключа равен индексу значения\n",
    "#     return dict\n",
    "\n",
    "# n = int(input())\n",
    "# n_dict(n)\n",
    "# print(list(n_dict(n).items())) #Вывод картежей, список словаря ключ, значение\n",
    "\n",
    "#Вариант преподавателя\n",
    "n = int(input())\n",
    "numbers = {}\n",
    "for i in range(1, n + 1): #Перебор от 1 до заданного значения и добавление ключа\n",
    "    numbers[i] = 3 * i + 1 #Присвоение значения к ключу\n",
    "print(numbers)"
   ]
  },
  {
   "cell_type": "code",
   "execution_count": 15,
   "metadata": {},
   "outputs": [
    {
     "data": {
      "text/plain": [
       "7"
      ]
     },
     "execution_count": 15,
     "metadata": {},
     "output_type": "execute_result"
    }
   ],
   "source": [
    "#Третья задача (хочу сделать иначе)\n",
    "#Пользователь задает две строки, а программа проверяет кол-во вхождений одной строки в другую\n",
    "str_1 = str(input())\n",
    "str_2 = str(input())\n",
    "tokens_1 = list(str_1)\n",
    "tokens_2 = list(str_2)\n",
    "def identity(x,y):\n",
    "    if tokens_1 == tokens_2:\n",
    "        return('Строки равны')\n",
    "    else:\n",
    "        return('Строки не равны')\n",
    "\n",
    "\n",
    "def count_str(str_1,str_2):\n",
    "    len_1 = len(tokens_1)\n",
    "    len_2 = len(tokens_2)\n",
    "    j = 0\n",
    "    counter = 0\n",
    "    while(j < len_1):\n",
    "        if(tokens_1[j] == tokens_2[0]):\n",
    "            if(tokens_1[j : j + len_2] == tokens_2):\n",
    "                counter += 1\n",
    "        j += 1\n",
    "    return counter\n",
    "count_str(tokens_1, tokens_2)\n",
    "#identity(tokens_1, tokens_2)"
   ]
  },
  {
   "cell_type": "code",
   "execution_count": null,
   "metadata": {},
   "outputs": [],
   "source": [
    "#Печать алфавита\n",
    "print(' '.join([chr(i) for i in range(ord('a'), ord('z') + 1)]))\n",
    "\n",
    "#Печать символов\n",
    "print('\\n'.join([chr(i) for i in range(1, 100)]))"
   ]
  }
 ],
 "metadata": {
  "kernelspec": {
   "display_name": "Python 3",
   "language": "python",
   "name": "python3"
  },
  "language_info": {
   "codemirror_mode": {
    "name": "ipython",
    "version": 3
   },
   "file_extension": ".py",
   "mimetype": "text/x-python",
   "name": "python",
   "nbconvert_exporter": "python",
   "pygments_lexer": "ipython3",
   "version": "3.12.0"
  }
 },
 "nbformat": 4,
 "nbformat_minor": 2
}
